{
 "cells": [
  {
   "cell_type": "code",
   "execution_count": 10,
   "metadata": {},
   "outputs": [
    {
     "name": "stdout",
     "output_type": "stream",
     "text": [
      "Number of seconds in a min is: 60\n",
      "\n",
      "Numbers of seconds in a hour is: 3600\n",
      "\n"
     ]
    }
   ],
   "source": [
    "seconds_per_min = 60\n",
    "\n",
    "result_hour = seconds_per_min * 60\n",
    "\n",
    "print(f\"Number of seconds in a min is: {seconds_per_min}\\n\")\n",
    "print(f\"Numbers of seconds in a hour is: {result_hour}\\n\")"
   ]
  },
  {
   "cell_type": "code",
   "execution_count": 11,
   "metadata": {},
   "outputs": [
    {
     "name": "stdout",
     "output_type": "stream",
     "text": [
      "Numbers of seconds in a hour is: 3600\n",
      "\n"
     ]
    }
   ],
   "source": [
    "seconds_per_hour = result_hour\n",
    "\n",
    "print(f\"Numbers of seconds in a hour is: {seconds_per_hour}\\n\")"
   ]
  },
  {
   "cell_type": "code",
   "execution_count": 12,
   "metadata": {},
   "outputs": [
    {
     "name": "stdout",
     "output_type": "stream",
     "text": [
      "Numbers of seconds in a day is: 86400\n",
      "\n"
     ]
    }
   ],
   "source": [
    "result_day = seconds_per_hour * 24\n",
    "\n",
    "print(f\"Numbers of seconds in a day is: {result_day}\\n\")"
   ]
  },
  {
   "cell_type": "code",
   "execution_count": 13,
   "metadata": {},
   "outputs": [
    {
     "name": "stdout",
     "output_type": "stream",
     "text": [
      "Numbers of seconds in a day is: 86400\n",
      "\n"
     ]
    }
   ],
   "source": [
    "seconds_per_day = seconds_per_hour * 24\n",
    "\n",
    "print(f\"Numbers of seconds in a day is: {seconds_per_day}\\n\")"
   ]
  },
  {
   "cell_type": "code",
   "execution_count": 14,
   "metadata": {},
   "outputs": [
    {
     "name": "stdout",
     "output_type": "stream",
     "text": [
      "24.0\n"
     ]
    }
   ],
   "source": [
    "float_div = seconds_per_day / seconds_per_hour\n",
    "\n",
    "print(float_div)"
   ]
  },
  {
   "cell_type": "code",
   "execution_count": 15,
   "metadata": {},
   "outputs": [
    {
     "name": "stdout",
     "output_type": "stream",
     "text": [
      "Integer division (24) and float division (24.0) are the same in this case\n"
     ]
    }
   ],
   "source": [
    "int_div = seconds_per_day // seconds_per_hour\n",
    "\n",
    "if float_div == int_div:\n",
    "    print(f\"Integer division ({int_div}) and float division ({float_div}) are the same in this case\")\n",
    "else:\n",
    "    print(f\"Integer division ({int_div}) and float division ({float_div}) are not the same in this case\")"
   ]
  }
 ],
 "metadata": {
  "kernelspec": {
   "display_name": "Python 3",
   "language": "python",
   "name": "python3"
  },
  "language_info": {
   "codemirror_mode": {
    "name": "ipython",
    "version": 3
   },
   "file_extension": ".py",
   "mimetype": "text/x-python",
   "name": "python",
   "nbconvert_exporter": "python",
   "pygments_lexer": "ipython3",
   "version": "3.11.4"
  }
 },
 "nbformat": 4,
 "nbformat_minor": 2
}
